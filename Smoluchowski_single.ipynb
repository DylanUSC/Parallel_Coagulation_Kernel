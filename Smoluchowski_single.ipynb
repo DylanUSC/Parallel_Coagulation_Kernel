{
 "cells": [
  {
   "cell_type": "code",
   "execution_count": 2,
   "id": "586a9160-5379-49d2-b28c-0a40d0caa91b",
   "metadata": {},
   "outputs": [],
   "source": [
    "import sys\n",
    "import matplotlib.pyplot as plt\n",
    "import numpy as np\n",
    "import scipy.special as sps"
   ]
  },
  {
   "cell_type": "code",
   "execution_count": 10,
   "id": "0cff8f17-66f5-4064-b810-d7f77e271fe4",
   "metadata": {},
   "outputs": [
    {
     "ename": "IndentationError",
     "evalue": "unindent does not match any outer indentation level (<tokenize>, line 27)",
     "output_type": "error",
     "traceback": [
      "\u001b[0;36m  File \u001b[0;32m\"<tokenize>\"\u001b[0;36m, line \u001b[0;32m27\u001b[0m\n\u001b[0;31m    kern= normConst*-(7./120.) * x[p]**(15./14.) * (x[p] * (9. * x[p] * (xA/(xA+x[p])**5.)**(1./14.)+19. * (xA**15./(xA+x[p])**5.)**(1./14.)-9. * x[p] * (xB/(xB+x[p])**5.)**(1./14.)-19.*(xB**15./(xB+x[p])**5.)**(1./14.))+10.*((xA**29./(xA+x[p])**5.)**(1./14.)-(xB**29./(xB+x[p])**5.)**(1./14.))-9.*(xA * x[p]**23.)**(1./14.) * sps.hyp2f1(1./14.,5./14.,15./14.,-(xA/x[p]))+9.*(xB * x[p]**23.)**(1./14.)*sps.hyp2f1(1./14.,5./14.,15./14.,-(xB/x[p])))\u001b[0m\n\u001b[0m    ^\u001b[0m\n\u001b[0;31mIndentationError\u001b[0m\u001b[0;31m:\u001b[0m unindent does not match any outer indentation level\n"
     ]
    }
   ],
   "source": [
    "def smolsolve(x, xBound, f0, t, K_A, source, Nt):\n",
    "\n",
    "    dx = xBound[1] - xBound[0]\n",
    "    Nx = x.size\n",
    "    dt = t / Nt\n",
    "    g = x * f0\n",
    "    for t in range(Nt):\n",
    "        JL = 0*x\n",
    "        fsrc = 0*x\n",
    "    # source term for f\n",
    "    if source == 'none':\n",
    "        fsrc = 0*x\n",
    "    elif source == 'myGaussian':\n",
    "        fsrc = 0.05*np.exp(-((x-8.)**2))\t\t\n",
    "    else:\n",
    "        sys.exit(\"source incorrectly specified\") \n",
    "\n",
    "    # Flux term\n",
    "    for i in range(1,Nx):\n",
    "        for p in range(0,i):\n",
    "        # K_A = 1\n",
    "        # this is analytic expression for int_{x_j}^{x_j+1} K_A(x_mid(i),y)/y \\, dy\n",
    "            if K_A == '1':\n",
    "                kernBndry = np.log(xBound[i-p]/x[i-p-1])\n",
    "                kern = np.log(xBound[i-p+1:-1]/xBound[i-p:-2])\n",
    "            # K_A = x*y\n",
    "              kern= normConst*-(7./120.) * x[p]**(15./14.) * (x[p] * (9. * x[p] * (xA/(xA+x[p])**5.)**(1./14.)+19. * (xA**15./(xA+x[p])**5.)**(1./14.)-9. * x[p] * (xB/(xB+x[p])**5.)**(1./14.)-19.*(xB**15./(xB+x[p])**5.)**(1./14.))+10.*((xA**29./(xA+x[p])**5.)**(1./14.)-(xB**29./(xB+x[p])**5.)**(1./14.))-9.*(xA * x[p]**23.)**(1./14.) * sps.hyp2f1(1./14.,5./14.,15./14.,-(xA/x[p]))+9.*(xB * x[p]**23.)**(1./14.)*sps.hyp2f1(1./14.,5./14.,15./14.,-(xB/x[p])))\n",
    "            else:\n",
    "                sys.exit(\"kernel incorrectly specified\") \n",
    "\n",
    "        JL[i] = JL[i] + dx*g[p] * (kernBndry*g[i-p-1] + np.sum(kern*g[i-p:-1]))\n",
    "\n",
    "    JR = np.roll(JL,-1)\n",
    "    JR[-1]= 0\n",
    "    g = g - dt / dx * ( JR - JL ) + dt*fsrc*x\n",
    "\n",
    "    f = g / x\n",
    "    return f"
   ]
  },
  {
   "cell_type": "code",
   "execution_count": 5,
   "id": "cc35515c-2805-452e-a728-0671679434ae",
   "metadata": {},
   "outputs": [],
   "source": [
    "\n",
    "def main():\n",
    "    \n",
    "    # [Example 1.] K = 1\n",
    "    x = np.linspace(0.001,100,1000);\n",
    "    cc = 0;\n",
    "    for t in np.array([0,0.5,1,3]):\n",
    "        cc+=1\n",
    "        f = (2./(2.+t))**2 * np.exp(-2./(2.+t)*x)\n",
    "        g = x*f\n",
    "        fig = plt.plot(x, f, linewidth=2, color=[0., 0., cc/5.], label='$t='+\"%0.1f\" % t +'$')\n",
    "    plt.yscale('log')\n",
    "\n",
    "    # compare with the numerical solutions\n",
    "    t = 3.\n",
    "    Nt = 30\n",
    "    Nx = 100\n",
    "    xBound = np.linspace(0.01,100,Nx)\n",
    "    dx = xBound[1] - xBound[0]\n",
    "    x = np.linspace(xBound[0]+0.5*dx,xBound[-1]-0.5*dx,Nx-1)\n",
    "    f0 = np.exp(-x)\n",
    "    #f0 = x**-2\n",
    "    K_A = '1'\n",
    "    source = 'none'\n",
    "    f = smolsolve(x, xBound, f0, t, K_A, source, Nt)\n",
    "    fig = plt.plot(x, f, 'o', color=[0., 1., 0.])\n",
    "\n",
    "    plt.legend(loc='lower left')\n",
    "    plt.xlabel('$x$')\n",
    "    plt.ylabel('$f(t,x)$')\n",
    "    plt.axis([0.001, 12, 1e-6, 1e1])\n",
    "    plt.savefig('solution1.pdf', aspect = 'normal', bbox_inches='tight', pad_inches = 0)\n",
    "    plt.close()"
   ]
  },
  {
   "cell_type": "code",
   "execution_count": null,
   "id": "64e6ab85-fd76-4233-9465-ac1826152546",
   "metadata": {},
   "outputs": [],
   "source": [
    "\n"
   ]
  }
 ],
 "metadata": {
  "kernelspec": {
   "display_name": "Python 3",
   "language": "python",
   "name": "python3"
  },
  "language_info": {
   "codemirror_mode": {
    "name": "ipython",
    "version": 3
   },
   "file_extension": ".py",
   "mimetype": "text/x-python",
   "name": "python",
   "nbconvert_exporter": "python",
   "pygments_lexer": "ipython3",
   "version": "3.6.9"
  }
 },
 "nbformat": 4,
 "nbformat_minor": 5
}
